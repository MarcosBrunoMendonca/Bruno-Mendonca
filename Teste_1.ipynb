{
  "nbformat": 4,
  "nbformat_minor": 0,
  "metadata": {
    "colab": {
      "provenance": [],
      "authorship_tag": "ABX9TyP/KtKjHMweHWywt+klsLPM",
      "include_colab_link": true
    },
    "kernelspec": {
      "name": "python3",
      "display_name": "Python 3"
    },
    "language_info": {
      "name": "python"
    }
  },
  "cells": [
    {
      "cell_type": "markdown",
      "metadata": {
        "id": "view-in-github",
        "colab_type": "text"
      },
      "source": [
        "<a href=\"https://colab.research.google.com/github/MarcosBrunoMendonca/Bruno-Mendonca/blob/main/Teste_Est%C3%A1gio_1.ipynb\" target=\"_parent\"><img src=\"https://colab.research.google.com/assets/colab-badge.svg\" alt=\"Open In Colab\"/></a>"
      ]
    },
    {
      "cell_type": "code",
      "execution_count": 1,
      "metadata": {
        "colab": {
          "base_uri": "https://localhost:8080/"
        },
        "id": "59BisnmqHXPv",
        "outputId": "594cce48-1c17-462f-d2ed-c8c0f44591ca"
      },
      "outputs": [
        {
          "output_type": "stream",
          "name": "stdout",
          "text": [
            "Collecting biopython\n",
            "  Downloading biopython-1.85-cp310-cp310-manylinux_2_17_x86_64.manylinux2014_x86_64.whl.metadata (13 kB)\n",
            "Requirement already satisfied: numpy in /usr/local/lib/python3.10/dist-packages (from biopython) (1.26.4)\n",
            "Downloading biopython-1.85-cp310-cp310-manylinux_2_17_x86_64.manylinux2014_x86_64.whl (3.2 MB)\n",
            "\u001b[?25l   \u001b[90m━━━━━━━━━━━━━━━━━━━━━━━━━━━━━━━━━━━━━━━━\u001b[0m \u001b[32m0.0/3.2 MB\u001b[0m \u001b[31m?\u001b[0m eta \u001b[36m-:--:--\u001b[0m\r\u001b[2K   \u001b[91m━━━━━━━━━━━━━━━━━━━━━━━━━━━━━━━━━━\u001b[0m\u001b[91m╸\u001b[0m\u001b[90m━━━━━\u001b[0m \u001b[32m2.8/3.2 MB\u001b[0m \u001b[31m82.6 MB/s\u001b[0m eta \u001b[36m0:00:01\u001b[0m\r\u001b[2K   \u001b[90m━━━━━━━━━━━━━━━━━━━━━━━━━━━━━━━━━━━━━━━━\u001b[0m \u001b[32m3.2/3.2 MB\u001b[0m \u001b[31m48.3 MB/s\u001b[0m eta \u001b[36m0:00:00\u001b[0m\n",
            "\u001b[?25hInstalling collected packages: biopython\n",
            "Successfully installed biopython-1.85\n"
          ]
        }
      ],
      "source": [
        "pip install biopython"
      ]
    },
    {
      "cell_type": "code",
      "source": [
        "from Bio.Seq import Seq\n",
        "\n",
        "seq1 = Seq(\"TTTATAGTAGAAGAGGTCCAAGCGGGAACAGAACTGCTAACCCAGCCCCATCCTGTCCTTACACAAAGATGCTGCGGTCTTGATCCACCTCGCTCGGCCACTCGTTCACCCCGTCTAAGTTTGCGCGGAACTAACCAAAAGATGACAACAAGGCGGGACGAACCCTTTACGCTGTCACTCCATAAAACATAGTTTTAATACCGGGTCTCTCAAAAAAGTATGCTGGGTGCATCGTTCCTTGGTTTAGTAGCTCCTCCGTTTCGGGCTCGGATGAGCCTCGGAATCCTAAGGGTAAATGCGAAAGATCCCACGGATAAGGTCACTTTAACCTGTTACCCAACCAAGCCGGGCACGCGCGGTCTCCCGGATGACATCTCGGGAGCCTCACGAATCAAGGCCGCAATGCAAGAGAGGCTTTACGCCACGGTAGAGGTTACACGTTTCCCGGGGCAGGATCCCGTCAGAGGTTTCCTTAACGAACTCACTCCAGGATACAGTTCCATGCACTAGGGGTCTCGGAGTCAGGCGCAACCGGCGCAAAGTAAACGAGTGGTCGAAAGCGGCGATTGTTGTCGATGGAGGGTTCTTTAACATACTTACGGCCTTAGCAGTTCATACACCCTCTACTCAAGAGGTTGCAGCGAACTTAGTTCCCAGTAATGCACACTAGTTGACCTCATCCCTAGAGTGACAACTCACTATAGAAGTCGTCGTTTTGCTAATCGATCCCGTCGATCCGATGCAAACTTACCCATTCACGCTCGCACATCGGTTTCACAACGGATCGTCATACTCCAGTGAGACGCGGATGGGCGTCAAGTGGTTG\")\n",
        "\n",
        "seq2\n",
        "\n",
        "type (seq2)\n",
        "\n",
        "seq2 = Seq(seq2)\n",
        "\n",
        "type(seq2)\n",
        "\n",
        "import Bio"
      ],
      "metadata": {
        "colab": {
          "base_uri": "https://localhost:8080/"
        },
        "id": "TbD-qYHzKOTN",
        "outputId": "93f1b9be-7291-47a8-a7a3-e82af7ce6689"
      },
      "execution_count": 52,
      "outputs": [
        {
          "output_type": "execute_result",
          "data": {
            "text/plain": [
              "Seq('UUUAUAGUAGAAGAGGUCCAAGCGGGAACAGAACUGCUAACCCAGCCCCAUCCU...UUG')"
            ]
          },
          "metadata": {},
          "execution_count": 52
        }
      ]
    },
    {
      "cell_type": "code",
      "source": [
        "from Bio import SeqIO\n",
        "\n",
        "for i in SeqIO.parse(\"seq3.fasta\", \"fasta\"):\n",
        "  print(i)"
      ],
      "metadata": {
        "colab": {
          "base_uri": "https://localhost:8080/"
        },
        "id": "fc2QXW_4qA-t",
        "outputId": "e94f7c34-cb47-4859-c849-5046f31e05cb"
      },
      "execution_count": 60,
      "outputs": [
        {
          "output_type": "stream",
          "name": "stdout",
          "text": [
            "ID: seq3\n",
            "Name: seq3\n",
            "Description: seq3\n",
            "Number of features: 0\n",
            "Seq('UUUAUAGUAGAAGAGGUCCAAGCGGGAACAGAACUGCUAACCCAGCCCCAUCCU...UUG')\n"
          ]
        },
        {
          "output_type": "execute_result",
          "data": {
            "text/plain": [
              "Seq('UUUAUAGUAGAAGAGGUCCAAGCGGGAACAGAACUGCUAACCCAGCCCCAUCCU...UUG')"
            ]
          },
          "metadata": {},
          "execution_count": 60
        }
      ]
    },
    {
      "cell_type": "code",
      "source": [
        "import Bio.Data.CodonTable\n",
        "print(Bio.Data.CodonTable.standard_dna_table)\n"
      ],
      "metadata": {
        "colab": {
          "base_uri": "https://localhost:8080/"
        },
        "id": "5T_8y6Ttrto7",
        "outputId": "967db8af-08af-425f-b429-93b52b6e0689"
      },
      "execution_count": 77,
      "outputs": [
        {
          "output_type": "stream",
          "name": "stdout",
          "text": [
            "Table 1 Standard, SGC0\n",
            "\n",
            "  |  T      |  C      |  A      |  G      |\n",
            "--+---------+---------+---------+---------+--\n",
            "T | TTT F   | TCT S   | TAT Y   | TGT C   | T\n",
            "T | TTC F   | TCC S   | TAC Y   | TGC C   | C\n",
            "T | TTA L   | TCA S   | TAA Stop| TGA Stop| A\n",
            "T | TTG L(s)| TCG S   | TAG Stop| TGG W   | G\n",
            "--+---------+---------+---------+---------+--\n",
            "C | CTT L   | CCT P   | CAT H   | CGT R   | T\n",
            "C | CTC L   | CCC P   | CAC H   | CGC R   | C\n",
            "C | CTA L   | CCA P   | CAA Q   | CGA R   | A\n",
            "C | CTG L(s)| CCG P   | CAG Q   | CGG R   | G\n",
            "--+---------+---------+---------+---------+--\n",
            "A | ATT I   | ACT T   | AAT N   | AGT S   | T\n",
            "A | ATC I   | ACC T   | AAC N   | AGC S   | C\n",
            "A | ATA I   | ACA T   | AAA K   | AGA R   | A\n",
            "A | ATG M(s)| ACG T   | AAG K   | AGG R   | G\n",
            "--+---------+---------+---------+---------+--\n",
            "G | GTT V   | GCT A   | GAT D   | GGT G   | T\n",
            "G | GTC V   | GCC A   | GAC D   | GGC G   | C\n",
            "G | GTA V   | GCA A   | GAA E   | GGA G   | A\n",
            "G | GTG V   | GCG A   | GAG E   | GGG G   | G\n",
            "--+---------+---------+---------+---------+--\n"
          ]
        }
      ]
    },
    {
      "cell_type": "code",
      "source": [
        "protein = seq3.translate()\n",
        "\n",
        "print(protein)"
      ],
      "metadata": {
        "colab": {
          "base_uri": "https://localhost:8080/",
          "height": 176
        },
        "id": "vFEVSJzK5pCp",
        "outputId": "accf32bb-8ed0-45cc-9481-403381e82f13"
      },
      "execution_count": 101,
      "outputs": [
        {
          "output_type": "error",
          "ename": "NameError",
          "evalue": "name 'seq3' is not defined",
          "traceback": [
            "\u001b[0;31m---------------------------------------------------------------------------\u001b[0m",
            "\u001b[0;31mNameError\u001b[0m                                 Traceback (most recent call last)",
            "\u001b[0;32m<ipython-input-101-a99dfee2a4f5>\u001b[0m in \u001b[0;36m<cell line: 1>\u001b[0;34m()\u001b[0m\n\u001b[0;32m----> 1\u001b[0;31m \u001b[0mprotein\u001b[0m \u001b[0;34m=\u001b[0m \u001b[0mseq3\u001b[0m\u001b[0;34m.\u001b[0m\u001b[0mtranslate\u001b[0m\u001b[0;34m(\u001b[0m\u001b[0;34m)\u001b[0m\u001b[0;34m\u001b[0m\u001b[0;34m\u001b[0m\u001b[0m\n\u001b[0m\u001b[1;32m      2\u001b[0m \u001b[0;34m\u001b[0m\u001b[0m\n\u001b[1;32m      3\u001b[0m \u001b[0mprint\u001b[0m\u001b[0;34m(\u001b[0m\u001b[0mprotein\u001b[0m\u001b[0;34m)\u001b[0m\u001b[0;34m\u001b[0m\u001b[0;34m\u001b[0m\u001b[0m\n",
            "\u001b[0;31mNameError\u001b[0m: name 'seq3' is not defined"
          ]
        }
      ]
    },
    {
      "cell_type": "code",
      "source": [
        "def find_codons(sequence):\n",
        "  sequence = sequence[:len(sequence) - (len(sequence) % 3)]\n",
        "  codons = [sequence[i:i+3] for i in range(0, len(sequence), 3)]\n",
        "  return codons\n",
        "\n",
        "codons_list = find_codons(seq1)\n",
        "\n",
        "print(\"Códons encontrados na sequência:\")\n",
        "print(codons_list)\n",
        "\n",
        "codons_with_aminoacids = {codon: Seq(codon).translate() for codon in codons_list}\n",
        "\n",
        "print(\"Códons e seus aminoácidos correspondentes:\")\n",
        "print(codons_with_aminoacids)"
      ],
      "metadata": {
        "colab": {
          "base_uri": "https://localhost:8080/"
        },
        "id": "nMqkUUl47so4",
        "outputId": "0969ba81-6ab8-45c4-8979-03ef48585291"
      },
      "execution_count": 94,
      "outputs": [
        {
          "output_type": "stream",
          "name": "stdout",
          "text": [
            "Códons encontrados na sequência:\n",
            "[Seq('TTT'), Seq('ATA'), Seq('GTA'), Seq('GAA'), Seq('GAG'), Seq('GTC'), Seq('CAA'), Seq('GCG'), Seq('GGA'), Seq('ACA'), Seq('GAA'), Seq('CTG'), Seq('CTA'), Seq('ACC'), Seq('CAG'), Seq('CCC'), Seq('CAT'), Seq('CCT'), Seq('GTC'), Seq('CTT'), Seq('ACA'), Seq('CAA'), Seq('AGA'), Seq('TGC'), Seq('TGC'), Seq('GGT'), Seq('CTT'), Seq('GAT'), Seq('CCA'), Seq('CCT'), Seq('CGC'), Seq('TCG'), Seq('GCC'), Seq('ACT'), Seq('CGT'), Seq('TCA'), Seq('CCC'), Seq('CGT'), Seq('CTA'), Seq('AGT'), Seq('TTG'), Seq('CGC'), Seq('GGA'), Seq('ACT'), Seq('AAC'), Seq('CAA'), Seq('AAG'), Seq('ATG'), Seq('ACA'), Seq('ACA'), Seq('AGG'), Seq('CGG'), Seq('GAC'), Seq('GAA'), Seq('CCC'), Seq('TTT'), Seq('ACG'), Seq('CTG'), Seq('TCA'), Seq('CTC'), Seq('CAT'), Seq('AAA'), Seq('ACA'), Seq('TAG'), Seq('TTT'), Seq('TAA'), Seq('TAC'), Seq('CGG'), Seq('GTC'), Seq('TCT'), Seq('CAA'), Seq('AAA'), Seq('AGT'), Seq('ATG'), Seq('CTG'), Seq('GGT'), Seq('GCA'), Seq('TCG'), Seq('TTC'), Seq('CTT'), Seq('GGT'), Seq('TTA'), Seq('GTA'), Seq('GCT'), Seq('CCT'), Seq('CCG'), Seq('TTT'), Seq('CGG'), Seq('GCT'), Seq('CGG'), Seq('ATG'), Seq('AGC'), Seq('CTC'), Seq('GGA'), Seq('ATC'), Seq('CTA'), Seq('AGG'), Seq('GTA'), Seq('AAT'), Seq('GCG'), Seq('AAA'), Seq('GAT'), Seq('CCC'), Seq('ACG'), Seq('GAT'), Seq('AAG'), Seq('GTC'), Seq('ACT'), Seq('TTA'), Seq('ACC'), Seq('TGT'), Seq('TAC'), Seq('CCA'), Seq('ACC'), Seq('AAG'), Seq('CCG'), Seq('GGC'), Seq('ACG'), Seq('CGC'), Seq('GGT'), Seq('CTC'), Seq('CCG'), Seq('GAT'), Seq('GAC'), Seq('ATC'), Seq('TCG'), Seq('GGA'), Seq('GCC'), Seq('TCA'), Seq('CGA'), Seq('ATC'), Seq('AAG'), Seq('GCC'), Seq('GCA'), Seq('ATG'), Seq('CAA'), Seq('GAG'), Seq('AGG'), Seq('CTT'), Seq('TAC'), Seq('GCC'), Seq('ACG'), Seq('GTA'), Seq('GAG'), Seq('GTT'), Seq('ACA'), Seq('CGT'), Seq('TTC'), Seq('CCG'), Seq('GGG'), Seq('CAG'), Seq('GAT'), Seq('CCC'), Seq('GTC'), Seq('AGA'), Seq('GGT'), Seq('TTC'), Seq('CTT'), Seq('AAC'), Seq('GAA'), Seq('CTC'), Seq('ACT'), Seq('CCA'), Seq('GGA'), Seq('TAC'), Seq('AGT'), Seq('TCC'), Seq('ATG'), Seq('CAC'), Seq('TAG'), Seq('GGG'), Seq('TCT'), Seq('CGG'), Seq('AGT'), Seq('CAG'), Seq('GCG'), Seq('CAA'), Seq('CCG'), Seq('GCG'), Seq('CAA'), Seq('AGT'), Seq('AAA'), Seq('CGA'), Seq('GTG'), Seq('GTC'), Seq('GAA'), Seq('AGC'), Seq('GGC'), Seq('GAT'), Seq('TGT'), Seq('TGT'), Seq('CGA'), Seq('TGG'), Seq('AGG'), Seq('GTT'), Seq('CTT'), Seq('TAA'), Seq('CAT'), Seq('ACT'), Seq('TAC'), Seq('GGC'), Seq('CTT'), Seq('AGC'), Seq('AGT'), Seq('TCA'), Seq('TAC'), Seq('ACC'), Seq('CTC'), Seq('TAC'), Seq('TCA'), Seq('AGA'), Seq('GGT'), Seq('TGC'), Seq('AGC'), Seq('GAA'), Seq('CTT'), Seq('AGT'), Seq('TCC'), Seq('CAG'), Seq('TAA'), Seq('TGC'), Seq('ACA'), Seq('CTA'), Seq('GTT'), Seq('GAC'), Seq('CTC'), Seq('ATC'), Seq('CCT'), Seq('AGA'), Seq('GTG'), Seq('ACA'), Seq('ACT'), Seq('CAC'), Seq('TAT'), Seq('AGA'), Seq('AGT'), Seq('CGT'), Seq('CGT'), Seq('TTT'), Seq('GCT'), Seq('AAT'), Seq('CGA'), Seq('TCC'), Seq('CGT'), Seq('CGA'), Seq('TCC'), Seq('GAT'), Seq('GCA'), Seq('AAC'), Seq('TTA'), Seq('CCC'), Seq('ATT'), Seq('CAC'), Seq('GCT'), Seq('CGC'), Seq('ACA'), Seq('TCG'), Seq('GTT'), Seq('TCA'), Seq('CAA'), Seq('CGG'), Seq('ATC'), Seq('GTC'), Seq('ATA'), Seq('CTC'), Seq('CAG'), Seq('TGA'), Seq('GAC'), Seq('GCG'), Seq('GAT'), Seq('GGG'), Seq('CGT'), Seq('CAA'), Seq('GTG'), Seq('GTT')]\n",
            "Códons e seus aminoácidos correspondentes:\n",
            "{Seq('TTT'): Seq('F'), Seq('ATA'): Seq('I'), Seq('GTA'): Seq('V'), Seq('GAA'): Seq('E'), Seq('GAG'): Seq('E'), Seq('GTC'): Seq('V'), Seq('CAA'): Seq('Q'), Seq('GCG'): Seq('A'), Seq('GGA'): Seq('G'), Seq('ACA'): Seq('T'), Seq('CTG'): Seq('L'), Seq('CTA'): Seq('L'), Seq('ACC'): Seq('T'), Seq('CAG'): Seq('Q'), Seq('CCC'): Seq('P'), Seq('CAT'): Seq('H'), Seq('CCT'): Seq('P'), Seq('CTT'): Seq('L'), Seq('AGA'): Seq('R'), Seq('TGC'): Seq('C'), Seq('GGT'): Seq('G'), Seq('GAT'): Seq('D'), Seq('CCA'): Seq('P'), Seq('CGC'): Seq('R'), Seq('TCG'): Seq('S'), Seq('GCC'): Seq('A'), Seq('ACT'): Seq('T'), Seq('CGT'): Seq('R'), Seq('TCA'): Seq('S'), Seq('AGT'): Seq('S'), Seq('TTG'): Seq('L'), Seq('AAC'): Seq('N'), Seq('AAG'): Seq('K'), Seq('ATG'): Seq('M'), Seq('AGG'): Seq('R'), Seq('CGG'): Seq('R'), Seq('GAC'): Seq('D'), Seq('ACG'): Seq('T'), Seq('CTC'): Seq('L'), Seq('AAA'): Seq('K'), Seq('TAG'): Seq('*'), Seq('TAA'): Seq('*'), Seq('TAC'): Seq('Y'), Seq('TCT'): Seq('S'), Seq('GCA'): Seq('A'), Seq('TTC'): Seq('F'), Seq('TTA'): Seq('L'), Seq('GCT'): Seq('A'), Seq('CCG'): Seq('P'), Seq('AGC'): Seq('S'), Seq('ATC'): Seq('I'), Seq('AAT'): Seq('N'), Seq('TGT'): Seq('C'), Seq('GGC'): Seq('G'), Seq('CGA'): Seq('R'), Seq('GTT'): Seq('V'), Seq('GGG'): Seq('G'), Seq('TCC'): Seq('S'), Seq('CAC'): Seq('H'), Seq('GTG'): Seq('V'), Seq('TGG'): Seq('W'), Seq('TAT'): Seq('Y'), Seq('ATT'): Seq('I'), Seq('TGA'): Seq('*')}\n"
          ]
        }
      ]
    },
    {
      "cell_type": "code",
      "source": [
        "from Bio.Seq import Seq\n",
        "\n",
        "amino_acid_names = {\n",
        "    'A': 'Alanine',\n",
        "    'C': 'Cysteine',\n",
        "    'D': 'Aspartic acid',\n",
        "    'E': 'Glutamic acid',\n",
        "    'F': 'Phenylalanine',\n",
        "    'G': 'Glycine',\n",
        "    'H': 'Histidine',\n",
        "    'I': 'Isoleucine',\n",
        "    'K': 'Lysine',\n",
        "    'L': 'Leucine',\n",
        "    'M': 'Methionine',\n",
        "    'N': 'Asparagine',\n",
        "    'P': 'Proline',\n",
        "    'Q': 'Glutamine',\n",
        "    'R': 'Arginine',\n",
        "    'S': 'Serine',\n",
        "    'T': 'Threonine',\n",
        "    'V': 'Valine',\n",
        "    'W': 'Tryptophan',\n",
        "    'Y': 'Tyrosine',\n",
        "    '*': 'Stop codon'\n",
        "}\n",
        "\n",
        "def translate_to_amino_acids_with_names(seq1):\n",
        "    dna_seq = Seq(seq1)\n",
        "    protein_seq = seq1.translate()\n",
        "    amino_acid_list = [amino_acid_names[aa] for aa in protein_seq]\n",
        "    return amino_acid_list\n",
        "\n",
        "\n",
        "amino_acids_names = translate_to_amino_acids_with_names(seq1)\n",
        "\n",
        "print(\"Sequência de DNA:\", seq1)\n",
        "print(\"Aminoácidos traduzidos:\", amino_acids_names)"
      ],
      "metadata": {
        "colab": {
          "base_uri": "https://localhost:8080/"
        },
        "id": "Ngr6ICaU91qk",
        "outputId": "65cccf48-c187-48eb-e705-e50acd7ec219"
      },
      "execution_count": 103,
      "outputs": [
        {
          "output_type": "stream",
          "name": "stdout",
          "text": [
            "Sequência de DNA: TTTATAGTAGAAGAGGTCCAAGCGGGAACAGAACTGCTAACCCAGCCCCATCCTGTCCTTACACAAAGATGCTGCGGTCTTGATCCACCTCGCTCGGCCACTCGTTCACCCCGTCTAAGTTTGCGCGGAACTAACCAAAAGATGACAACAAGGCGGGACGAACCCTTTACGCTGTCACTCCATAAAACATAGTTTTAATACCGGGTCTCTCAAAAAAGTATGCTGGGTGCATCGTTCCTTGGTTTAGTAGCTCCTCCGTTTCGGGCTCGGATGAGCCTCGGAATCCTAAGGGTAAATGCGAAAGATCCCACGGATAAGGTCACTTTAACCTGTTACCCAACCAAGCCGGGCACGCGCGGTCTCCCGGATGACATCTCGGGAGCCTCACGAATCAAGGCCGCAATGCAAGAGAGGCTTTACGCCACGGTAGAGGTTACACGTTTCCCGGGGCAGGATCCCGTCAGAGGTTTCCTTAACGAACTCACTCCAGGATACAGTTCCATGCACTAGGGGTCTCGGAGTCAGGCGCAACCGGCGCAAAGTAAACGAGTGGTCGAAAGCGGCGATTGTTGTCGATGGAGGGTTCTTTAACATACTTACGGCCTTAGCAGTTCATACACCCTCTACTCAAGAGGTTGCAGCGAACTTAGTTCCCAGTAATGCACACTAGTTGACCTCATCCCTAGAGTGACAACTCACTATAGAAGTCGTCGTTTTGCTAATCGATCCCGTCGATCCGATGCAAACTTACCCATTCACGCTCGCACATCGGTTTCACAACGGATCGTCATACTCCAGTGAGACGCGGATGGGCGTCAAGTGGTTG\n",
            "Aminoácidos traduzidos: ['Phenylalanine', 'Isoleucine', 'Valine', 'Glutamic acid', 'Glutamic acid', 'Valine', 'Glutamine', 'Alanine', 'Glycine', 'Threonine', 'Glutamic acid', 'Leucine', 'Leucine', 'Threonine', 'Glutamine', 'Proline', 'Histidine', 'Proline', 'Valine', 'Leucine', 'Threonine', 'Glutamine', 'Arginine', 'Cysteine', 'Cysteine', 'Glycine', 'Leucine', 'Aspartic acid', 'Proline', 'Proline', 'Arginine', 'Serine', 'Alanine', 'Threonine', 'Arginine', 'Serine', 'Proline', 'Arginine', 'Leucine', 'Serine', 'Leucine', 'Arginine', 'Glycine', 'Threonine', 'Asparagine', 'Glutamine', 'Lysine', 'Methionine', 'Threonine', 'Threonine', 'Arginine', 'Arginine', 'Aspartic acid', 'Glutamic acid', 'Proline', 'Phenylalanine', 'Threonine', 'Leucine', 'Serine', 'Leucine', 'Histidine', 'Lysine', 'Threonine', 'Stop codon', 'Phenylalanine', 'Stop codon', 'Tyrosine', 'Arginine', 'Valine', 'Serine', 'Glutamine', 'Lysine', 'Serine', 'Methionine', 'Leucine', 'Glycine', 'Alanine', 'Serine', 'Phenylalanine', 'Leucine', 'Glycine', 'Leucine', 'Valine', 'Alanine', 'Proline', 'Proline', 'Phenylalanine', 'Arginine', 'Alanine', 'Arginine', 'Methionine', 'Serine', 'Leucine', 'Glycine', 'Isoleucine', 'Leucine', 'Arginine', 'Valine', 'Asparagine', 'Alanine', 'Lysine', 'Aspartic acid', 'Proline', 'Threonine', 'Aspartic acid', 'Lysine', 'Valine', 'Threonine', 'Leucine', 'Threonine', 'Cysteine', 'Tyrosine', 'Proline', 'Threonine', 'Lysine', 'Proline', 'Glycine', 'Threonine', 'Arginine', 'Glycine', 'Leucine', 'Proline', 'Aspartic acid', 'Aspartic acid', 'Isoleucine', 'Serine', 'Glycine', 'Alanine', 'Serine', 'Arginine', 'Isoleucine', 'Lysine', 'Alanine', 'Alanine', 'Methionine', 'Glutamine', 'Glutamic acid', 'Arginine', 'Leucine', 'Tyrosine', 'Alanine', 'Threonine', 'Valine', 'Glutamic acid', 'Valine', 'Threonine', 'Arginine', 'Phenylalanine', 'Proline', 'Glycine', 'Glutamine', 'Aspartic acid', 'Proline', 'Valine', 'Arginine', 'Glycine', 'Phenylalanine', 'Leucine', 'Asparagine', 'Glutamic acid', 'Leucine', 'Threonine', 'Proline', 'Glycine', 'Tyrosine', 'Serine', 'Serine', 'Methionine', 'Histidine', 'Stop codon', 'Glycine', 'Serine', 'Arginine', 'Serine', 'Glutamine', 'Alanine', 'Glutamine', 'Proline', 'Alanine', 'Glutamine', 'Serine', 'Lysine', 'Arginine', 'Valine', 'Valine', 'Glutamic acid', 'Serine', 'Glycine', 'Aspartic acid', 'Cysteine', 'Cysteine', 'Arginine', 'Tryptophan', 'Arginine', 'Valine', 'Leucine', 'Stop codon', 'Histidine', 'Threonine', 'Tyrosine', 'Glycine', 'Leucine', 'Serine', 'Serine', 'Serine', 'Tyrosine', 'Threonine', 'Leucine', 'Tyrosine', 'Serine', 'Arginine', 'Glycine', 'Cysteine', 'Serine', 'Glutamic acid', 'Leucine', 'Serine', 'Serine', 'Glutamine', 'Stop codon', 'Cysteine', 'Threonine', 'Leucine', 'Valine', 'Aspartic acid', 'Leucine', 'Isoleucine', 'Proline', 'Arginine', 'Valine', 'Threonine', 'Threonine', 'Histidine', 'Tyrosine', 'Arginine', 'Serine', 'Arginine', 'Arginine', 'Phenylalanine', 'Alanine', 'Asparagine', 'Arginine', 'Serine', 'Arginine', 'Arginine', 'Serine', 'Aspartic acid', 'Alanine', 'Asparagine', 'Leucine', 'Proline', 'Isoleucine', 'Histidine', 'Alanine', 'Arginine', 'Threonine', 'Serine', 'Valine', 'Serine', 'Glutamine', 'Arginine', 'Isoleucine', 'Valine', 'Isoleucine', 'Leucine', 'Glutamine', 'Stop codon', 'Aspartic acid', 'Alanine', 'Aspartic acid', 'Glycine', 'Arginine', 'Glutamine', 'Valine', 'Valine']\n"
          ]
        },
        {
          "output_type": "stream",
          "name": "stderr",
          "text": [
            "/usr/local/lib/python3.10/dist-packages/Bio/Seq.py:2879: BiopythonWarning: Partial codon, len(sequence) not a multiple of three. Explicitly trim the sequence or add trailing N before translation. This may become an error in future.\n",
            "  warnings.warn(\n"
          ]
        }
      ]
    },
    {
      "cell_type": "code",
      "source": [
        "print(\"Aminoácidos traduzidos:\", amino_acids_names)"
      ],
      "metadata": {
        "colab": {
          "base_uri": "https://localhost:8080/"
        },
        "id": "NJ82sZf9_4Zz",
        "outputId": "e3423e53-73bc-43c8-9a19-99f76fc78a15"
      },
      "execution_count": 107,
      "outputs": [
        {
          "output_type": "stream",
          "name": "stdout",
          "text": [
            "Aminoácidos traduzidos: ['Phenylalanine', 'Isoleucine', 'Valine', 'Glutamic acid', 'Glutamic acid', 'Valine', 'Glutamine', 'Alanine', 'Glycine', 'Threonine', 'Glutamic acid', 'Leucine', 'Leucine', 'Threonine', 'Glutamine', 'Proline', 'Histidine', 'Proline', 'Valine', 'Leucine', 'Threonine', 'Glutamine', 'Arginine', 'Cysteine', 'Cysteine', 'Glycine', 'Leucine', 'Aspartic acid', 'Proline', 'Proline', 'Arginine', 'Serine', 'Alanine', 'Threonine', 'Arginine', 'Serine', 'Proline', 'Arginine', 'Leucine', 'Serine', 'Leucine', 'Arginine', 'Glycine', 'Threonine', 'Asparagine', 'Glutamine', 'Lysine', 'Methionine', 'Threonine', 'Threonine', 'Arginine', 'Arginine', 'Aspartic acid', 'Glutamic acid', 'Proline', 'Phenylalanine', 'Threonine', 'Leucine', 'Serine', 'Leucine', 'Histidine', 'Lysine', 'Threonine', 'Stop codon', 'Phenylalanine', 'Stop codon', 'Tyrosine', 'Arginine', 'Valine', 'Serine', 'Glutamine', 'Lysine', 'Serine', 'Methionine', 'Leucine', 'Glycine', 'Alanine', 'Serine', 'Phenylalanine', 'Leucine', 'Glycine', 'Leucine', 'Valine', 'Alanine', 'Proline', 'Proline', 'Phenylalanine', 'Arginine', 'Alanine', 'Arginine', 'Methionine', 'Serine', 'Leucine', 'Glycine', 'Isoleucine', 'Leucine', 'Arginine', 'Valine', 'Asparagine', 'Alanine', 'Lysine', 'Aspartic acid', 'Proline', 'Threonine', 'Aspartic acid', 'Lysine', 'Valine', 'Threonine', 'Leucine', 'Threonine', 'Cysteine', 'Tyrosine', 'Proline', 'Threonine', 'Lysine', 'Proline', 'Glycine', 'Threonine', 'Arginine', 'Glycine', 'Leucine', 'Proline', 'Aspartic acid', 'Aspartic acid', 'Isoleucine', 'Serine', 'Glycine', 'Alanine', 'Serine', 'Arginine', 'Isoleucine', 'Lysine', 'Alanine', 'Alanine', 'Methionine', 'Glutamine', 'Glutamic acid', 'Arginine', 'Leucine', 'Tyrosine', 'Alanine', 'Threonine', 'Valine', 'Glutamic acid', 'Valine', 'Threonine', 'Arginine', 'Phenylalanine', 'Proline', 'Glycine', 'Glutamine', 'Aspartic acid', 'Proline', 'Valine', 'Arginine', 'Glycine', 'Phenylalanine', 'Leucine', 'Asparagine', 'Glutamic acid', 'Leucine', 'Threonine', 'Proline', 'Glycine', 'Tyrosine', 'Serine', 'Serine', 'Methionine', 'Histidine', 'Stop codon', 'Glycine', 'Serine', 'Arginine', 'Serine', 'Glutamine', 'Alanine', 'Glutamine', 'Proline', 'Alanine', 'Glutamine', 'Serine', 'Lysine', 'Arginine', 'Valine', 'Valine', 'Glutamic acid', 'Serine', 'Glycine', 'Aspartic acid', 'Cysteine', 'Cysteine', 'Arginine', 'Tryptophan', 'Arginine', 'Valine', 'Leucine', 'Stop codon', 'Histidine', 'Threonine', 'Tyrosine', 'Glycine', 'Leucine', 'Serine', 'Serine', 'Serine', 'Tyrosine', 'Threonine', 'Leucine', 'Tyrosine', 'Serine', 'Arginine', 'Glycine', 'Cysteine', 'Serine', 'Glutamic acid', 'Leucine', 'Serine', 'Serine', 'Glutamine', 'Stop codon', 'Cysteine', 'Threonine', 'Leucine', 'Valine', 'Aspartic acid', 'Leucine', 'Isoleucine', 'Proline', 'Arginine', 'Valine', 'Threonine', 'Threonine', 'Histidine', 'Tyrosine', 'Arginine', 'Serine', 'Arginine', 'Arginine', 'Phenylalanine', 'Alanine', 'Asparagine', 'Arginine', 'Serine', 'Arginine', 'Arginine', 'Serine', 'Aspartic acid', 'Alanine', 'Asparagine', 'Leucine', 'Proline', 'Isoleucine', 'Histidine', 'Alanine', 'Arginine', 'Threonine', 'Serine', 'Valine', 'Serine', 'Glutamine', 'Arginine', 'Isoleucine', 'Valine', 'Isoleucine', 'Leucine', 'Glutamine', 'Stop codon', 'Aspartic acid', 'Alanine', 'Aspartic acid', 'Glycine', 'Arginine', 'Glutamine', 'Valine', 'Valine']\n"
          ]
        }
      ]
    }
  ]
}
